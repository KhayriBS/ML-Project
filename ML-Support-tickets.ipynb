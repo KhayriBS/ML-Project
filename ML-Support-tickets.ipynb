{
 "cells": [
  {
   "cell_type": "markdown",
   "id": "3605846b",
   "metadata": {},
   "source": [
    "# I- 🧾 Description Générale du Projet"
   ]
  },
  {
   "cell_type": "markdown",
   "id": "93ef521e",
   "metadata": {},
   "source": [
    "Ce projet de machine learning vise à développer un système capable de classer automatiquement les tickets de support client selon leur niveau de priorité (faible, moyen, élevé), à partir de données disponibles dès leur création. L’objectif est de faciliter la gestion des demandes techniques en permettant aux équipes de support de se concentrer rapidement sur les tickets les plus critiques.\n",
    "\n",
    "Le dataset utilisé est entièrement synthétique et contient 50 000 tickets de support provenant de 25 entreprises fictives. Il a été conçu pour simuler des situations réalistes avec un mélange de données numériques, catégorielles et textuelles simplifiées.\n",
    "\n",
    "Le projet combine deux approches complémentaires :\n",
    "\n",
    "**Apprentissage supervisé** : pour entraîner des modèles de classification (ex. : Random Forest, XGBoost) à prédire la priorité des tickets.\n",
    "\n",
    "**Apprentissage non supervisé** : pour explorer les données via des techniques de regroupement (clustering) et détecter des structures cachées.\n",
    "\n",
    "Ce projet est une excellente opportunité pédagogique pour mettre en pratique l’analyse exploratoire, le prétraitement des données, la modélisation, l’évaluation de performances, et l’interprétation des résultats dans un contexte métier réaliste."
   ]
  },
  {
   "cell_type": "markdown",
   "id": "63e5d35c",
   "metadata": {},
   "source": [
    "# II- 🧠 Business Understanding"
   ]
  },
  {
   "cell_type": "markdown",
   "id": "a0c366e2",
   "metadata": {},
   "source": [
    "## 1- 📊 Business Objectives (BO) vs Data Science Objectives (DSO)\n",
    "\n",
    "| **Business Objective (BO)** | **Data Science Objective (DSO)** |\n",
    "|------------------------------|----------------------------------|\n",
    "| **1. Améliorer la gestion des tickets** : Automatiser l’attribution d’une priorité (faible, moyenne, élevée) dès la création d’un ticket. | Construire un **modèle de classification supervisée** (Random Forest, XGBoost, etc.) pour prédire la variable `priority` avec une performance > 80% (mesurée par F1-score ou accuracy). |\n",
    "| **2. Optimiser l’utilisation des ressources humaines** : Identifier rapidement les tickets critiques pour mieux répartir les tâches. | Mettre en place un **système de scoring basé sur les prédictions ML** afin de classer automatiquement les tickets par ordre de criticité. |\n",
    "| **3. Améliorer la satisfaction client** : Réduire le temps de réponse sur les tickets critiques. | Analyser l’impact de variables comme `downtime_min`, `error_rate_pct` ou `customer_sentiment` et intégrer ces signaux dans le modèle pour améliorer la détection des cas urgents. |\n",
    "| **4. Analyse stratégique** : Comprendre l’influence de facteurs comme la taille d’entreprise, la région ou le produit sur la priorité des tickets. | Réaliser une **analyse exploratoire (EDA)** et utiliser des méthodes d’explicabilité (Feature Importance, SHAP) pour identifier les variables qui influencent le plus la priorité. |\n",
    "| **5. Innovation et automatisation** : Explorer de nouvelles approches pour améliorer la gestion des tickets. | - **Supervisé** : Comparer plusieurs modèles ML (Logistic Regression, Random Forest, XGBoost, etc.) et choisir le meilleur.<br>- **Non supervisé** : Appliquer du **clustering (K-Means, DBSCAN, PCA)** pour regrouper les tickets similaires et détecter des anomalies. |\n"
   ]
  },
  {
   "cell_type": "markdown",
   "id": "5a959881",
   "metadata": {},
   "source": [
    "## 2- ❓ Problématique Générale\n",
    "\n",
    "Les entreprises reçoivent un grand volume de tickets de support qu’il est difficile de prioriser manuellement.  \n",
    "Comment développer un modèle de Machine Learning capable de prédire automatiquement la priorité des tickets et, en parallèle, utiliser des méthodes de clustering pour regrouper les tickets similaires et détecter des anomalies ?\n"
   ]
  },
  {
   "cell_type": "markdown",
   "id": "8ea7bba7",
   "metadata": {},
   "source": [
    "# II- 🧠 Data Understanding"
   ]
  },
  {
   "cell_type": "markdown",
   "id": "1a489d2d",
   "metadata": {},
   "source": [
    "## 1- 📂 Importation de Dataset (Excel)"
   ]
  },
  {
   "cell_type": "markdown",
   "id": "1182ab55",
   "metadata": {},
   "source": [
    "Nous allons charger le dataset au format **CSV** en utilisant la librairie **pandas**.  \n",
    "La fonction `pd.read_csv()` permet de lire directement un fichier `.csv`. "
   ]
  },
  {
   "cell_type": "code",
   "execution_count": 2,
   "id": "3e7b4ff2",
   "metadata": {},
   "outputs": [
    {
     "name": "stdout",
     "output_type": "stream",
     "text": [
      "Shape : (50000, 33)\n"
     ]
    },
    {
     "data": {
      "text/html": [
       "<div>\n",
       "<style scoped>\n",
       "    .dataframe tbody tr th:only-of-type {\n",
       "        vertical-align: middle;\n",
       "    }\n",
       "\n",
       "    .dataframe tbody tr th {\n",
       "        vertical-align: top;\n",
       "    }\n",
       "\n",
       "    .dataframe thead th {\n",
       "        text-align: right;\n",
       "    }\n",
       "</style>\n",
       "<table border=\"1\" class=\"dataframe\">\n",
       "  <thead>\n",
       "    <tr style=\"text-align: right;\">\n",
       "      <th></th>\n",
       "      <th>ticket_id</th>\n",
       "      <th>day_of_week</th>\n",
       "      <th>day_of_week_num</th>\n",
       "      <th>company_id</th>\n",
       "      <th>company_size</th>\n",
       "      <th>company_size_cat</th>\n",
       "      <th>industry</th>\n",
       "      <th>industry_cat</th>\n",
       "      <th>customer_tier</th>\n",
       "      <th>customer_tier_cat</th>\n",
       "      <th>...</th>\n",
       "      <th>downtime_min</th>\n",
       "      <th>payment_impact_flag</th>\n",
       "      <th>security_incident_flag</th>\n",
       "      <th>data_loss_flag</th>\n",
       "      <th>has_runbook</th>\n",
       "      <th>customer_sentiment</th>\n",
       "      <th>customer_sentiment_cat</th>\n",
       "      <th>description_length</th>\n",
       "      <th>priority</th>\n",
       "      <th>priority_cat</th>\n",
       "    </tr>\n",
       "  </thead>\n",
       "  <tbody>\n",
       "    <tr>\n",
       "      <th>0</th>\n",
       "      <td>1000000000</td>\n",
       "      <td>Wed</td>\n",
       "      <td>3</td>\n",
       "      <td>100015</td>\n",
       "      <td>Small</td>\n",
       "      <td>1</td>\n",
       "      <td>media</td>\n",
       "      <td>7</td>\n",
       "      <td>Basic</td>\n",
       "      <td>1</td>\n",
       "      <td>...</td>\n",
       "      <td>6</td>\n",
       "      <td>0</td>\n",
       "      <td>0</td>\n",
       "      <td>0</td>\n",
       "      <td>0</td>\n",
       "      <td>neutral</td>\n",
       "      <td>2</td>\n",
       "      <td>227</td>\n",
       "      <td>low</td>\n",
       "      <td>1</td>\n",
       "    </tr>\n",
       "    <tr>\n",
       "      <th>1</th>\n",
       "      <td>1000000001</td>\n",
       "      <td>Sat</td>\n",
       "      <td>6</td>\n",
       "      <td>100023</td>\n",
       "      <td>Small</td>\n",
       "      <td>1</td>\n",
       "      <td>healthcare</td>\n",
       "      <td>5</td>\n",
       "      <td>Basic</td>\n",
       "      <td>1</td>\n",
       "      <td>...</td>\n",
       "      <td>2</td>\n",
       "      <td>0</td>\n",
       "      <td>0</td>\n",
       "      <td>0</td>\n",
       "      <td>0</td>\n",
       "      <td>neutral</td>\n",
       "      <td>2</td>\n",
       "      <td>461</td>\n",
       "      <td>low</td>\n",
       "      <td>1</td>\n",
       "    </tr>\n",
       "    <tr>\n",
       "      <th>2</th>\n",
       "      <td>1000000002</td>\n",
       "      <td>Mon</td>\n",
       "      <td>1</td>\n",
       "      <td>100012</td>\n",
       "      <td>Small</td>\n",
       "      <td>1</td>\n",
       "      <td>gaming</td>\n",
       "      <td>4</td>\n",
       "      <td>Basic</td>\n",
       "      <td>1</td>\n",
       "      <td>...</td>\n",
       "      <td>0</td>\n",
       "      <td>0</td>\n",
       "      <td>0</td>\n",
       "      <td>0</td>\n",
       "      <td>1</td>\n",
       "      <td>positive</td>\n",
       "      <td>3</td>\n",
       "      <td>306</td>\n",
       "      <td>low</td>\n",
       "      <td>1</td>\n",
       "    </tr>\n",
       "    <tr>\n",
       "      <th>3</th>\n",
       "      <td>1000000003</td>\n",
       "      <td>Wed</td>\n",
       "      <td>3</td>\n",
       "      <td>100003</td>\n",
       "      <td>Small</td>\n",
       "      <td>1</td>\n",
       "      <td>media</td>\n",
       "      <td>7</td>\n",
       "      <td>Plus</td>\n",
       "      <td>2</td>\n",
       "      <td>...</td>\n",
       "      <td>16</td>\n",
       "      <td>0</td>\n",
       "      <td>0</td>\n",
       "      <td>0</td>\n",
       "      <td>1</td>\n",
       "      <td>neutral</td>\n",
       "      <td>2</td>\n",
       "      <td>363</td>\n",
       "      <td>medium</td>\n",
       "      <td>2</td>\n",
       "    </tr>\n",
       "    <tr>\n",
       "      <th>4</th>\n",
       "      <td>1000000004</td>\n",
       "      <td>Mon</td>\n",
       "      <td>1</td>\n",
       "      <td>100019</td>\n",
       "      <td>Small</td>\n",
       "      <td>1</td>\n",
       "      <td>ecommerce</td>\n",
       "      <td>2</td>\n",
       "      <td>Plus</td>\n",
       "      <td>2</td>\n",
       "      <td>...</td>\n",
       "      <td>6</td>\n",
       "      <td>0</td>\n",
       "      <td>0</td>\n",
       "      <td>0</td>\n",
       "      <td>0</td>\n",
       "      <td>neutral</td>\n",
       "      <td>2</td>\n",
       "      <td>442</td>\n",
       "      <td>low</td>\n",
       "      <td>1</td>\n",
       "    </tr>\n",
       "  </tbody>\n",
       "</table>\n",
       "<p>5 rows × 33 columns</p>\n",
       "</div>"
      ],
      "text/plain": [
       "    ticket_id day_of_week  day_of_week_num  company_id company_size  \\\n",
       "0  1000000000         Wed                3      100015        Small   \n",
       "1  1000000001         Sat                6      100023        Small   \n",
       "2  1000000002         Mon                1      100012        Small   \n",
       "3  1000000003         Wed                3      100003        Small   \n",
       "4  1000000004         Mon                1      100019        Small   \n",
       "\n",
       "   company_size_cat    industry  industry_cat customer_tier  \\\n",
       "0                 1       media             7         Basic   \n",
       "1                 1  healthcare             5         Basic   \n",
       "2                 1      gaming             4         Basic   \n",
       "3                 1       media             7          Plus   \n",
       "4                 1   ecommerce             2          Plus   \n",
       "\n",
       "   customer_tier_cat  ...  downtime_min payment_impact_flag  \\\n",
       "0                  1  ...             6                   0   \n",
       "1                  1  ...             2                   0   \n",
       "2                  1  ...             0                   0   \n",
       "3                  2  ...            16                   0   \n",
       "4                  2  ...             6                   0   \n",
       "\n",
       "   security_incident_flag  data_loss_flag  has_runbook customer_sentiment  \\\n",
       "0                       0               0            0            neutral   \n",
       "1                       0               0            0            neutral   \n",
       "2                       0               0            1           positive   \n",
       "3                       0               0            1            neutral   \n",
       "4                       0               0            0            neutral   \n",
       "\n",
       "   customer_sentiment_cat description_length  priority priority_cat  \n",
       "0                       2                227       low            1  \n",
       "1                       2                461       low            1  \n",
       "2                       3                306       low            1  \n",
       "3                       2                363    medium            2  \n",
       "4                       2                442       low            1  \n",
       "\n",
       "[5 rows x 33 columns]"
      ]
     },
     "execution_count": 2,
     "metadata": {},
     "output_type": "execute_result"
    }
   ],
   "source": [
    "# Importer pandas\n",
    "import pandas as pd\n",
    "\n",
    "# Charger le fichier CSV\n",
    "# Remplace \"Support_tickets.csv\" par le chemin exact de ton fichier\n",
    "df = pd.read_csv(\"Support_tickets.csv\")\n",
    "\n",
    "# Vérifier les dimensions du dataset\n",
    "print(\"Shape :\", df.shape)\n",
    "\n",
    "# Aperçu des 5 premières lignes\n",
    "df.head()\n"
   ]
  },
  {
   "cell_type": "markdown",
   "id": "2a1a461f",
   "metadata": {},
   "source": [
    "## 2- 🗂️ Schéma des Données\n",
    "\n",
    "Le dataset contient les colonnes suivantes :\n",
    "\n",
    "#### Identifiants & Temps\n",
    "- **ticket_id** : Identifiant unique du ticket (int64)\n",
    "- **day_of_week** : Jour de la semaine (Lun–Dim)\n",
    "- **day_of_week_num** : Numéro du jour (1–7 ; Lun=1)\n",
    "\n",
    "#### Profil de l’Entreprise (répliqué sur chaque ligne)\n",
    "- **company_id** : Identifiant de l’entreprise (int)\n",
    "- **company_size** : Taille de l’entreprise (Petite/Moyenne/Grande)\n",
    "- **industry** : Secteur d’activité (7 catégories)\n",
    "- **customer_tier** : Niveau de service client (Basic/Plus/Enterprise)\n",
    "- **org_users** : Nombre d’utilisateurs actifs (jusqu’à ~10 000 pour les grandes entreprises)\n",
    "\n",
    "#### Contexte\n",
    "- **region** : Région (AMER/EMEA/APAC)\n",
    "- **past_30d_tickets** : Nombre de tickets sur les 30 derniers jours (int)\n",
    "- **past_90d_incidents** : Nombre d’incidents sur les 90 derniers jours (int)\n",
    "\n",
    "#### Produit & Canal\n",
    "- **product_area** : Domaine produit (authentification, facturation, mobile, pipeline de données, analytique, notifications)\n",
    "- **booking_channel** : Canal de création (web, email, chat, téléphone)\n",
    "- **reported_by_role** : Rôle du déclarant (support, devops, chef produit, finance, direction)\n",
    "\n",
    "#### Impact & Indicateurs\n",
    "- **customers_affected** : Nombre de clients impactés (int, distribution asymétrique)\n",
    "- **error_rate_pct** : Taux d’erreur (%) (float, 0–100 ; parfois 0.0 si non mesuré)\n",
    "- **downtime_min** : Durée d’indisponibilité (minutes, 0 si seulement dégradé)\n",
    "- **payment_impact_flag** : Impact sur paiement (0/1)\n",
    "- **security_incident_flag** : Incident de sécurité (0/1)\n",
    "- **data_loss_flag** : Perte de données (0/1)\n",
    "- **has_runbook** : Procédure disponible (0/1)\n",
    "\n",
    "#### Texte & Proxies\n",
    "- **customer_sentiment** : Sentiment client (négatif/neutre/positif ; 0 = manquant)\n",
    "- **description_length** : Longueur de la description (int, 20–2000)\n",
    "\n",
    "#### Cible\n",
    "- **priority** : Priorité du ticket (faible/moyenne/élevée)\n",
    "- **priority_cat** : Priorité (1/2/3)\n",
    "\n",
    "**Remarques :**\n",
    "- Jeu de données entièrement synthétique, adapté à l’éducation et au benchmarking.\n",
    "- Pas d’ordre temporel ni de champs post-résolution (pas de fuite de label).\n",
    "- Niveau de bruit ajusté pour une performance plafond de ~97–98% avec des modèles optimisés."
   ]
  },
  {
   "cell_type": "markdown",
   "id": "302d1552",
   "metadata": {},
   "source": [
    "## 3- 📖 Interprétation de la Description des Données"
   ]
  },
  {
   "cell_type": "markdown",
   "id": "76168f2f",
   "metadata": {},
   "source": [
    "#### * Nombre de lignes et de colonnes"
   ]
  },
  {
   "cell_type": "code",
   "execution_count": 3,
   "id": "b407ff3b",
   "metadata": {},
   "outputs": [
    {
     "name": "stdout",
     "output_type": "stream",
     "text": [
      "Nombre de lignes : 50000\n",
      "Nombre de colonnes : 33\n"
     ]
    }
   ],
   "source": [
    "# Nombre de lignes et colonnes\n",
    "print(\"Nombre de lignes :\", df.shape[0])\n",
    "print(\"Nombre de colonnes :\", df.shape[1])"
   ]
  },
  {
   "cell_type": "markdown",
   "id": "9a9a30e5",
   "metadata": {},
   "source": [
    "#### * Types de variables"
   ]
  },
  {
   "cell_type": "code",
   "execution_count": 8,
   "id": "7d6cfeb0",
   "metadata": {},
   "outputs": [
    {
     "name": "stdout",
     "output_type": "stream",
     "text": [
      "Requirement already satisfied: ace_tools in c:\\users\\nts\\appdata\\local\\programs\\python\\python313\\lib\\site-packages (0.0)\n",
      "Note: you may need to restart the kernel to use updated packages.\n"
     ]
    },
    {
     "ename": "ModuleNotFoundError",
     "evalue": "No module named 'ace_tools'",
     "output_type": "error",
     "traceback": [
      "\u001b[31m---------------------------------------------------------------------------\u001b[39m",
      "\u001b[31mModuleNotFoundError\u001b[39m                       Traceback (most recent call last)",
      "\u001b[36mCell\u001b[39m\u001b[36m \u001b[39m\u001b[32mIn[8]\u001b[39m\u001b[32m, line 2\u001b[39m\n\u001b[32m      1\u001b[39m get_ipython().run_line_magic(\u001b[33m'\u001b[39m\u001b[33mpip\u001b[39m\u001b[33m'\u001b[39m, \u001b[33m'\u001b[39m\u001b[33minstall ace_tools\u001b[39m\u001b[33m'\u001b[39m)\n\u001b[32m----> \u001b[39m\u001b[32m2\u001b[39m \u001b[38;5;28;01mimport\u001b[39;00m\u001b[38;5;250m \u001b[39m\u001b[34;01mace_tools\u001b[39;00m\u001b[38;5;250m \u001b[39m\u001b[38;5;28;01mas\u001b[39;00m\u001b[38;5;250m \u001b[39m\u001b[34;01mtools\u001b[39;00m\n\u001b[32m      3\u001b[39m \u001b[38;5;28;01mimport\u001b[39;00m\u001b[38;5;250m \u001b[39m\u001b[34;01mpandas\u001b[39;00m\u001b[38;5;250m \u001b[39m\u001b[38;5;28;01mas\u001b[39;00m\u001b[38;5;250m \u001b[39m\u001b[34;01mpd\u001b[39;00m\n\u001b[32m      5\u001b[39m df = pd.read_csv(\u001b[33m\"\u001b[39m\u001b[33mSupport_tickets.csv\u001b[39m\u001b[33m\"\u001b[39m)\n",
      "\u001b[31mModuleNotFoundError\u001b[39m: No module named 'ace_tools'"
     ]
    }
   ],
   "source": [
    "%pip install ace_tools\n",
    "import ace_tools as tools\n",
    "import pandas as pd\n",
    "\n",
    "df = pd.read_csv(\"Support_tickets.csv\")\n",
    "# Identifier les types de variables\n",
    "types_variables = df.dtypes.value_counts()\n",
    "# Détail des colonnes avec leur type\n",
    "colonnes_types = df.dtypes.reset_index()\n",
    "colonnes_types.columns = [\"Colonne\", \"Type\"]\n",
    "tools.display_dataframe_to_user(\"Types de variables\", colonnes_types)"
   ]
  },
  {
   "cell_type": "markdown",
   "id": "b31ec259",
   "metadata": {},
   "source": [
    "# III - 🧹 Data Preparation"
   ]
  },
  {
   "cell_type": "markdown",
   "id": "1b1c31a2",
   "metadata": {},
   "source": [
    "## 1 - 🔎 Objectifs"
   ]
  },
  {
   "cell_type": "markdown",
   "id": "e7e0c57a",
   "metadata": {},
   "source": [
    "La phase de **Data Preparation** consiste à transformer les données brutes en un format exploitable par les algorithmes de Machine Learning.  \n",
    "Elle comprend :  \n",
    "- le **nettoyage** des données,  \n",
    "- la **gestion des valeurs manquantes**,  \n",
    "- l’**encodage des variables catégorielles**,  \n",
    "- la **normalisation/standardisation**,  \n",
    "- la création de nouvelles **features** (feature engineering)"
   ]
  }
 ],
 "metadata": {
  "kernelspec": {
   "display_name": "Python 3",
   "language": "python",
   "name": "python3"
  },
  "language_info": {
   "codemirror_mode": {
    "name": "ipython",
    "version": 3
   },
   "file_extension": ".py",
   "mimetype": "text/x-python",
   "name": "python",
   "nbconvert_exporter": "python",
   "pygments_lexer": "ipython3",
   "version": "3.13.3"
  }
 },
 "nbformat": 4,
 "nbformat_minor": 5
}
